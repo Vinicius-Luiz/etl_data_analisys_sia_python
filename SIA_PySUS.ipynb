{
  "nbformat": 4,
  "nbformat_minor": 0,
  "metadata": {
    "colab": {
      "provenance": []
    },
    "kernelspec": {
      "name": "python3",
      "display_name": "Python 3"
    },
    "language_info": {
      "name": "python"
    }
  },
  "cells": [
    {
      "cell_type": "code",
      "execution_count": 2,
      "metadata": {
        "id": "n6v4VBMJigoU"
      },
      "outputs": [],
      "source": [
        "%%capture\n",
        "!pip install pysus==0.7.0"
      ]
    },
    {
      "cell_type": "code",
      "source": [
        "%%capture\n",
        "!pip install pysus"
      ],
      "metadata": {
        "id": "Wq5Nv7-4p5zb"
      },
      "execution_count": 1,
      "outputs": []
    },
    {
      "cell_type": "code",
      "source": [
        "# Importando funcionalidades do pacote pysus relacionadas ao Sistema de Informações Ambulatoriais do SUS (SIA).\n",
        "from pysus.online_data.SIA import download, show_datatypes\n",
        "\n",
        "# Método para converter dados no formato Parquet em um DataFrame do Pandas.\n",
        "from pysus.online_data import parquets_to_dataframe"
      ],
      "metadata": {
        "id": "0WfjfM9UizHL"
      },
      "execution_count": 2,
      "outputs": []
    },
    {
      "cell_type": "code",
      "source": [
        "from datetime import datetime\n",
        "import pandas as pd\n",
        "import numpy as np\n",
        "\n",
        "pd.set_option('display.max_columns', 100)"
      ],
      "metadata": {
        "id": "lCbWdHtSxfuN"
      },
      "execution_count": 16,
      "outputs": []
    },
    {
      "cell_type": "code",
      "source": [
        "# Todos os tipos de dados disponíveis relacionados ao SIA\n",
        "show_datatypes()"
      ],
      "metadata": {
        "colab": {
          "base_uri": "https://localhost:8080/"
        },
        "id": "42TnBCJzj1iG",
        "outputId": "7036747e-891a-458c-b096-1acbf6fed81b"
      },
      "execution_count": 4,
      "outputs": [
        {
          "output_type": "stream",
          "name": "stdout",
          "text": [
            "{'AB': ('APAC de Cirurgia Bariátrica', 1, 2008),\n",
            " 'ACF': ('APAC de Confecção de Fístula', 1, 2008),\n",
            " 'AD': ('APAC de Laudos Diversos', 1, 2008),\n",
            " 'AM': ('APAC de Medicamentos', 1, 2008),\n",
            " 'AMP': ('APAC de Acompanhamento Multiprofissional', 1, 2008),\n",
            " 'AN': ('APAC de Nefrologia', 1, 2008),\n",
            " 'AQ': ('APAC de Quimioterapia', 1, 2008),\n",
            " 'AR': ('APAC de Radioterapia', 1, 2008),\n",
            " 'ATD': ('APAC de Tratamento Dialítico', 1, 2008),\n",
            " 'BI': ('Boletim de Produção Ambulatorial individualizado', 1, 2008),\n",
            " 'PA': ('Produção Ambulatorial', 7, 1994),\n",
            " 'PS': ('RAAS Psicossocial', 1, 2008),\n",
            " 'SAD': ('RAAS de Atenção Domiciliar', 1, 2008)}\n"
          ]
        }
      ]
    },
    {
      "cell_type": "code",
      "source": [
        "selected_columns = {'PA_UFMUN': 'Unidade da Federação + município de localização',\n",
        "  'PA_CMP'    : 'Data da Realização do Procedimento / Competência (AAAAMM)',\n",
        "  'PA_PROC_ID': 'Código do Procedimento Ambulatorial',\n",
        "  'PA_NIVCPL' : 'Complexidade do Procedimento',\n",
        "  'PA_CBOCOD' : 'Código de Ocupação Brasileira do Profissional de saúde executante',\n",
        "  'PA_OBITO'  : 'Indicador de óbito (1 para sim 0 para não)',\n",
        "  'PA_ENCERR' : 'Indicador de Encerramento (APAC)',\n",
        "  'PA_PERMAN' : 'Indicador de Permanência (APAC)',\n",
        "  'PA_ALTA'   : 'Indicador de Alta (APAC)',\n",
        "  'PA_TRANSF' : 'Indicador de transferência (1 para sim 0 para não)',\n",
        "  'PA_QTDAPR' : 'Quantidade Aprovada do procedimento',\n",
        "  'PA_VALAPR' : 'Valor aprovado',\n",
        "  'PA_UFDIF'  : '''Indica se a UF de residência do paciente é diferente da UF de\n",
        "                   localização do estabelecimento: 0 = mesma UF 1 = UF diferente''',\n",
        "  'PA_MNDIF'  : '''Indica se o município de residência do paciente é diferente\n",
        "                   do município de localização do estabelecimento:\n",
        "                   0 = mesmo município 1 = município diferente'''\n",
        "                   }\n",
        "\n",
        "columns_finally = ['PA_UFMUN', 'PA_CMP', 'PA_PROC_ID', 'PA_G_PROC_ID', 'PA_SG_PROC_ID',\n",
        "                   'PA_NIVCPL', 'PA_CBOCOD', 'PA_OBITO', 'PA_ENCERR',\n",
        "                   'PA_PERMAN', 'PA_ALTA', 'PA_TRANSF', 'PA_QTDAPR', 'PA_VALAPR',\n",
        "                   'PA_UFDIF', 'PA_MNDIF', ]"
      ],
      "metadata": {
        "id": "-Q031zQItEbX"
      },
      "execution_count": 18,
      "outputs": []
    },
    {
      "cell_type": "code",
      "source": [
        "years  = (2021, 2022, 2023)\n",
        "months = (1, 2, 3, 4, 5, 6, 7, 8, 9, 10, 11, 12)\n",
        "\n",
        "path   = '/content/drive/MyDrive/SIA'"
      ],
      "metadata": {
        "id": "gEglxKvznmUl"
      },
      "execution_count": 20,
      "outputs": []
    },
    {
      "cell_type": "code",
      "source": [
        "%%time\n",
        "for year in years:\n",
        "  for month in months:\n",
        "    print(f'[START] SIA: {str(month).zfill(2)}/{year}')\n",
        "    # Baixando os dados\n",
        "    parquet_data = download(states = 'PE', years = year, months = month, group='PA')\n",
        "    if parquet_data:\n",
        "      # Convertendo arquivo parquet em DataFrame\n",
        "      df = parquets_to_dataframe(parquet_data)\n",
        "      # Obtendo somente colunas selecionadas para análise\n",
        "      df = df[list(selected_columns.keys())]\n",
        "\n",
        "      # Convertendo data YYYYMM em DD/MM/YYYY\n",
        "      df['PA_CMP'] = df['PA_CMP'].apply(lambda x: datetime.strptime(x, '%Y%m'))\n",
        "\n",
        "      # Obtendo grupo do procedimento realizado\n",
        "      df['PA_G_PROC_ID'] = df['PA_PROC_ID'].apply(lambda x: x[:2])\n",
        "      # Obtendo subgrupo do procedimento realizado\n",
        "      df['PA_SG_PROC_ID'] = df['PA_PROC_ID'].apply(lambda x: x[:4])\n",
        "\n",
        "      # Convertendo valores contábeis em numéricos\n",
        "      df['PA_QTDAPR'] = df['PA_QTDAPR'].apply(lambda x: int(x))\n",
        "      df['PA_VALAPR'] = df['PA_VALAPR'].apply(lambda x: float(x))\n",
        "\n",
        "      df[columns_finally].to_csv(f'{path}/SIA_{year}_{str(month).zfill(2)}.csv', index = False, sep = ';')\n",
        "\n",
        "    print(f'[ END ] SIA: {str(month).zfill(2)}/{year}')"
      ],
      "metadata": {
        "colab": {
          "base_uri": "https://localhost:8080/"
        },
        "id": "QsrcYQWasUA1",
        "outputId": "ed87fc33-9d4d-480e-be5f-4d1a531a493b"
      },
      "execution_count": 22,
      "outputs": [
        {
          "output_type": "stream",
          "name": "stdout",
          "text": [
            "[START] SIA: 01/2021\n",
            "[ END ] SIA: 01/2021\n",
            "[START] SIA: 02/2021\n",
            "[ END ] SIA: 02/2021\n",
            "[START] SIA: 03/2021\n",
            "[ END ] SIA: 03/2021\n",
            "[START] SIA: 04/2021\n",
            "[ END ] SIA: 04/2021\n",
            "[START] SIA: 05/2021\n",
            "[ END ] SIA: 05/2021\n",
            "[START] SIA: 06/2021\n",
            "[ END ] SIA: 06/2021\n",
            "[START] SIA: 07/2021\n",
            "[ END ] SIA: 07/2021\n",
            "[START] SIA: 08/2021\n",
            "[ END ] SIA: 08/2021\n",
            "[START] SIA: 09/2021\n",
            "[ END ] SIA: 09/2021\n",
            "[START] SIA: 10/2021\n",
            "[ END ] SIA: 10/2021\n",
            "[START] SIA: 11/2021\n",
            "[ END ] SIA: 11/2021\n",
            "[START] SIA: 12/2021\n",
            "[ END ] SIA: 12/2021\n",
            "[START] SIA: 01/2022\n",
            "[ END ] SIA: 01/2022\n",
            "[START] SIA: 02/2022\n",
            "[ END ] SIA: 02/2022\n",
            "[START] SIA: 03/2022\n",
            "[ END ] SIA: 03/2022\n",
            "[START] SIA: 04/2022\n",
            "[ END ] SIA: 04/2022\n",
            "[START] SIA: 05/2022\n",
            "[ END ] SIA: 05/2022\n",
            "[START] SIA: 06/2022\n",
            "[ END ] SIA: 06/2022\n",
            "[START] SIA: 07/2022\n",
            "[ END ] SIA: 07/2022\n",
            "[START] SIA: 08/2022\n",
            "[ END ] SIA: 08/2022\n",
            "[START] SIA: 09/2022\n",
            "[ END ] SIA: 09/2022\n",
            "[START] SIA: 10/2022\n",
            "[ END ] SIA: 10/2022\n",
            "[START] SIA: 11/2022\n",
            "[ END ] SIA: 11/2022\n",
            "[START] SIA: 12/2022\n",
            "[ END ] SIA: 12/2022\n",
            "[START] SIA: 01/2023\n",
            "[ END ] SIA: 01/2023\n",
            "[START] SIA: 02/2023\n",
            "[ END ] SIA: 02/2023\n",
            "[START] SIA: 03/2023\n",
            "[ END ] SIA: 03/2023\n",
            "[START] SIA: 04/2023\n",
            "[ END ] SIA: 04/2023\n",
            "[START] SIA: 05/2023\n",
            "[ END ] SIA: 05/2023\n",
            "[START] SIA: 06/2023\n",
            "[ END ] SIA: 06/2023\n",
            "[START] SIA: 07/2023\n",
            "[ END ] SIA: 07/2023\n",
            "[START] SIA: 08/2023\n",
            "[ END ] SIA: 08/2023\n",
            "[START] SIA: 09/2023\n",
            "[ END ] SIA: 09/2023\n",
            "[START] SIA: 10/2023\n",
            "[ END ] SIA: 10/2023\n",
            "[START] SIA: 11/2023\n",
            "[ END ] SIA: 11/2023\n",
            "[START] SIA: 12/2023\n",
            "[ END ] SIA: 12/2023\n",
            "CPU times: user 1h 22min 22s, sys: 2min 11s, total: 1h 24min 34s\n",
            "Wall time: 1h 49min 12s\n"
          ]
        }
      ]
    }
  ]
}