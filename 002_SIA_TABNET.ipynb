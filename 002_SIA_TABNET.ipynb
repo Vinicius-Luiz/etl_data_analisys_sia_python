{
 "cells": [
  {
   "cell_type": "code",
   "execution_count": 1,
   "metadata": {},
   "outputs": [],
   "source": [
    "import pandas as pd"
   ]
  },
  {
   "cell_type": "code",
   "execution_count": 2,
   "metadata": {},
   "outputs": [
    {
     "data": {
      "text/html": [
       "<div>\n",
       "<style scoped>\n",
       "    .dataframe tbody tr th:only-of-type {\n",
       "        vertical-align: middle;\n",
       "    }\n",
       "\n",
       "    .dataframe tbody tr th {\n",
       "        vertical-align: top;\n",
       "    }\n",
       "\n",
       "    .dataframe thead th {\n",
       "        text-align: right;\n",
       "    }\n",
       "</style>\n",
       "<table border=\"1\" class=\"dataframe\">\n",
       "  <thead>\n",
       "    <tr style=\"text-align: right;\">\n",
       "      <th></th>\n",
       "      <th>PA_UFMUN</th>\n",
       "      <th>PA_CMP</th>\n",
       "      <th>PA_PROC_ID</th>\n",
       "      <th>PA_NIVCPL</th>\n",
       "      <th>PA_CBOCOD</th>\n",
       "      <th>PA_OBITO</th>\n",
       "      <th>PA_ENCERR</th>\n",
       "      <th>PA_PERMAN</th>\n",
       "      <th>PA_ALTA</th>\n",
       "      <th>PA_TRANSF</th>\n",
       "      <th>PA_QTDAPR</th>\n",
       "      <th>PA_VALAPR</th>\n",
       "      <th>PA_UFDIF</th>\n",
       "      <th>PA_MNDIF</th>\n",
       "      <th>PA_G_PROC_ID</th>\n",
       "      <th>PA_SG_PROC_ID</th>\n",
       "    </tr>\n",
       "  </thead>\n",
       "  <tbody>\n",
       "    <tr>\n",
       "      <th>0</th>\n",
       "      <td>261160</td>\n",
       "      <td>2023-08-01</td>\n",
       "      <td>202060233</td>\n",
       "      <td>2</td>\n",
       "      <td>221205</td>\n",
       "      <td>0</td>\n",
       "      <td>0</td>\n",
       "      <td>0</td>\n",
       "      <td>0</td>\n",
       "      <td>0</td>\n",
       "      <td>2</td>\n",
       "      <td>15.78</td>\n",
       "      <td>9</td>\n",
       "      <td>9</td>\n",
       "      <td>2</td>\n",
       "      <td>202</td>\n",
       "    </tr>\n",
       "    <tr>\n",
       "      <th>1</th>\n",
       "      <td>261160</td>\n",
       "      <td>2023-08-01</td>\n",
       "      <td>202060373</td>\n",
       "      <td>2</td>\n",
       "      <td>221205</td>\n",
       "      <td>0</td>\n",
       "      <td>0</td>\n",
       "      <td>0</td>\n",
       "      <td>0</td>\n",
       "      <td>0</td>\n",
       "      <td>13</td>\n",
       "      <td>113.88</td>\n",
       "      <td>9</td>\n",
       "      <td>9</td>\n",
       "      <td>2</td>\n",
       "      <td>202</td>\n",
       "    </tr>\n",
       "    <tr>\n",
       "      <th>2</th>\n",
       "      <td>261160</td>\n",
       "      <td>2023-08-01</td>\n",
       "      <td>211070211</td>\n",
       "      <td>2</td>\n",
       "      <td>223810</td>\n",
       "      <td>0</td>\n",
       "      <td>0</td>\n",
       "      <td>0</td>\n",
       "      <td>0</td>\n",
       "      <td>0</td>\n",
       "      <td>1</td>\n",
       "      <td>26.25</td>\n",
       "      <td>9</td>\n",
       "      <td>9</td>\n",
       "      <td>2</td>\n",
       "      <td>211</td>\n",
       "    </tr>\n",
       "    <tr>\n",
       "      <th>3</th>\n",
       "      <td>261160</td>\n",
       "      <td>2023-08-01</td>\n",
       "      <td>301010048</td>\n",
       "      <td>2</td>\n",
       "      <td>251510</td>\n",
       "      <td>0</td>\n",
       "      <td>0</td>\n",
       "      <td>0</td>\n",
       "      <td>0</td>\n",
       "      <td>0</td>\n",
       "      <td>1</td>\n",
       "      <td>6.30</td>\n",
       "      <td>9</td>\n",
       "      <td>9</td>\n",
       "      <td>3</td>\n",
       "      <td>301</td>\n",
       "    </tr>\n",
       "    <tr>\n",
       "      <th>4</th>\n",
       "      <td>261160</td>\n",
       "      <td>2023-08-01</td>\n",
       "      <td>301010072</td>\n",
       "      <td>2</td>\n",
       "      <td>225120</td>\n",
       "      <td>0</td>\n",
       "      <td>0</td>\n",
       "      <td>0</td>\n",
       "      <td>0</td>\n",
       "      <td>0</td>\n",
       "      <td>11</td>\n",
       "      <td>110.00</td>\n",
       "      <td>9</td>\n",
       "      <td>9</td>\n",
       "      <td>3</td>\n",
       "      <td>301</td>\n",
       "    </tr>\n",
       "  </tbody>\n",
       "</table>\n",
       "</div>"
      ],
      "text/plain": [
       "   PA_UFMUN      PA_CMP  PA_PROC_ID  PA_NIVCPL PA_CBOCOD  PA_OBITO  PA_ENCERR  \\\n",
       "0    261160  2023-08-01   202060233          2    221205         0          0   \n",
       "1    261160  2023-08-01   202060373          2    221205         0          0   \n",
       "2    261160  2023-08-01   211070211          2    223810         0          0   \n",
       "3    261160  2023-08-01   301010048          2    251510         0          0   \n",
       "4    261160  2023-08-01   301010072          2    225120         0          0   \n",
       "\n",
       "   PA_PERMAN  PA_ALTA  PA_TRANSF  PA_QTDAPR  PA_VALAPR  PA_UFDIF  PA_MNDIF  \\\n",
       "0          0        0          0          2      15.78         9         9   \n",
       "1          0        0          0         13     113.88         9         9   \n",
       "2          0        0          0          1      26.25         9         9   \n",
       "3          0        0          0          1       6.30         9         9   \n",
       "4          0        0          0         11     110.00         9         9   \n",
       "\n",
       "   PA_G_PROC_ID  PA_SG_PROC_ID  \n",
       "0             2            202  \n",
       "1             2            202  \n",
       "2             2            211  \n",
       "3             3            301  \n",
       "4             3            301  "
      ]
     },
     "execution_count": 2,
     "metadata": {},
     "output_type": "execute_result"
    }
   ],
   "source": [
    "df = pd.read_csv(r'data\\001_PYSUS\\SIA_2023_08.csv', sep = ';')\n",
    "df.head()"
   ]
  },
  {
   "cell_type": "code",
   "execution_count": 3,
   "metadata": {},
   "outputs": [
    {
     "name": "stdout",
     "output_type": "stream",
     "text": [
      "<class 'pandas.core.frame.DataFrame'>\n",
      "RangeIndex: 1225782 entries, 0 to 1225781\n",
      "Data columns (total 6 columns):\n",
      " #   Column         Non-Null Count    Dtype \n",
      "---  ------         --------------    ----- \n",
      " 0   PA_UFMUN       1225782 non-null  int64 \n",
      " 1   PA_G_PROC_ID   1225782 non-null  int64 \n",
      " 2   PA_SG_PROC_ID  1225782 non-null  int64 \n",
      " 3   PA_PROC_ID     1225782 non-null  int64 \n",
      " 4   PA_NIVCPL      1225782 non-null  int64 \n",
      " 5   PA_CBOCOD      1225579 non-null  object\n",
      "dtypes: int64(5), object(1)\n",
      "memory usage: 56.1+ MB\n"
     ]
    }
   ],
   "source": [
    "cod_columns = ['PA_UFMUN', 'PA_G_PROC_ID', 'PA_SG_PROC_ID', 'PA_PROC_ID', 'PA_NIVCPL', 'PA_CBOCOD']\n",
    "df[cod_columns].info()"
   ]
  },
  {
   "cell_type": "markdown",
   "metadata": {},
   "source": [
    "## Extrair e transformar dados descritivos de PA_UFMUN (Município)"
   ]
  },
  {
   "cell_type": "code",
   "execution_count": 4,
   "metadata": {},
   "outputs": [
    {
     "data": {
      "text/html": [
       "<div>\n",
       "<style scoped>\n",
       "    .dataframe tbody tr th:only-of-type {\n",
       "        vertical-align: middle;\n",
       "    }\n",
       "\n",
       "    .dataframe tbody tr th {\n",
       "        vertical-align: top;\n",
       "    }\n",
       "\n",
       "    .dataframe thead th {\n",
       "        text-align: right;\n",
       "    }\n",
       "</style>\n",
       "<table border=\"1\" class=\"dataframe\">\n",
       "  <thead>\n",
       "    <tr style=\"text-align: right;\">\n",
       "      <th></th>\n",
       "      <th>Município</th>\n",
       "      <th>Valor_aprovado</th>\n",
       "    </tr>\n",
       "  </thead>\n",
       "  <tbody>\n",
       "    <tr>\n",
       "      <th>0</th>\n",
       "      <td>260005 ABREU E LIMA</td>\n",
       "      <td>2057139,68</td>\n",
       "    </tr>\n",
       "    <tr>\n",
       "      <th>1</th>\n",
       "      <td>260010 AFOGADOS DA INGAZEIRA</td>\n",
       "      <td>1108202,45</td>\n",
       "    </tr>\n",
       "    <tr>\n",
       "      <th>2</th>\n",
       "      <td>260020 AFRANIO</td>\n",
       "      <td>254128,37</td>\n",
       "    </tr>\n",
       "    <tr>\n",
       "      <th>3</th>\n",
       "      <td>260030 AGRESTINA</td>\n",
       "      <td>304509,63</td>\n",
       "    </tr>\n",
       "    <tr>\n",
       "      <th>4</th>\n",
       "      <td>260040 AGUA PRETA</td>\n",
       "      <td>468963,73</td>\n",
       "    </tr>\n",
       "  </tbody>\n",
       "</table>\n",
       "</div>"
      ],
      "text/plain": [
       "                      Município Valor_aprovado\n",
       "0           260005 ABREU E LIMA     2057139,68\n",
       "1  260010 AFOGADOS DA INGAZEIRA     1108202,45\n",
       "2                260020 AFRANIO      254128,37\n",
       "3              260030 AGRESTINA      304509,63\n",
       "4             260040 AGUA PRETA      468963,73"
      ]
     },
     "execution_count": 4,
     "metadata": {},
     "output_type": "execute_result"
    }
   ],
   "source": [
    "df_pa_ufmun = pd.read_csv(r'data\\002_TABNET\\sia_municipio.csv', sep=';')\n",
    "df_pa_ufmun.head()"
   ]
  },
  {
   "cell_type": "code",
   "execution_count": 5,
   "metadata": {},
   "outputs": [
    {
     "data": {
      "text/html": [
       "<div>\n",
       "<style scoped>\n",
       "    .dataframe tbody tr th:only-of-type {\n",
       "        vertical-align: middle;\n",
       "    }\n",
       "\n",
       "    .dataframe tbody tr th {\n",
       "        vertical-align: top;\n",
       "    }\n",
       "\n",
       "    .dataframe thead th {\n",
       "        text-align: right;\n",
       "    }\n",
       "</style>\n",
       "<table border=\"1\" class=\"dataframe\">\n",
       "  <thead>\n",
       "    <tr style=\"text-align: right;\">\n",
       "      <th></th>\n",
       "      <th>PA_UFMUN</th>\n",
       "      <th>DS_PA_UFMUN</th>\n",
       "    </tr>\n",
       "  </thead>\n",
       "  <tbody>\n",
       "    <tr>\n",
       "      <th>0</th>\n",
       "      <td>260005</td>\n",
       "      <td>ABREU E LIMA</td>\n",
       "    </tr>\n",
       "    <tr>\n",
       "      <th>1</th>\n",
       "      <td>260010</td>\n",
       "      <td>AFOGADOS DA INGAZEIRA</td>\n",
       "    </tr>\n",
       "    <tr>\n",
       "      <th>2</th>\n",
       "      <td>260020</td>\n",
       "      <td>AFRANIO</td>\n",
       "    </tr>\n",
       "    <tr>\n",
       "      <th>3</th>\n",
       "      <td>260030</td>\n",
       "      <td>AGRESTINA</td>\n",
       "    </tr>\n",
       "    <tr>\n",
       "      <th>4</th>\n",
       "      <td>260040</td>\n",
       "      <td>AGUA PRETA</td>\n",
       "    </tr>\n",
       "  </tbody>\n",
       "</table>\n",
       "</div>"
      ],
      "text/plain": [
       "   PA_UFMUN            DS_PA_UFMUN\n",
       "0    260005           ABREU E LIMA\n",
       "1    260010  AFOGADOS DA INGAZEIRA\n",
       "2    260020                AFRANIO\n",
       "3    260030              AGRESTINA\n",
       "4    260040             AGUA PRETA"
      ]
     },
     "execution_count": 5,
     "metadata": {},
     "output_type": "execute_result"
    }
   ],
   "source": [
    "df_pa_ufmun['PA_UFMUN'] = df_pa_ufmun['Município'].apply(lambda x: x.split(' ', 1)[0])\n",
    "df_pa_ufmun['DS_PA_UFMUN'] = df_pa_ufmun['Município'].apply(lambda x: x.split(' ', 1)[1])\n",
    "\n",
    "df_pa_ufmun['PA_UFMUN'] = df_pa_ufmun['PA_UFMUN'].astype('int64')\n",
    "df_pa_ufmun[['PA_UFMUN', 'DS_PA_UFMUN']].head()"
   ]
  },
  {
   "cell_type": "code",
   "execution_count": 6,
   "metadata": {},
   "outputs": [],
   "source": [
    "df_pa_ufmun[['PA_UFMUN', 'DS_PA_UFMUN']].to_csv(r'data\\002_TABNET\\PA_UFMUN.csv', index = None, sep = ';')"
   ]
  },
  {
   "cell_type": "markdown",
   "metadata": {},
   "source": [
    "## Extrair e transformar dados descritivos de PA_G_PROC_ID (Procedimento Grupo)"
   ]
  },
  {
   "cell_type": "code",
   "execution_count": 7,
   "metadata": {},
   "outputs": [
    {
     "data": {
      "text/html": [
       "<div>\n",
       "<style scoped>\n",
       "    .dataframe tbody tr th:only-of-type {\n",
       "        vertical-align: middle;\n",
       "    }\n",
       "\n",
       "    .dataframe tbody tr th {\n",
       "        vertical-align: top;\n",
       "    }\n",
       "\n",
       "    .dataframe thead th {\n",
       "        text-align: right;\n",
       "    }\n",
       "</style>\n",
       "<table border=\"1\" class=\"dataframe\">\n",
       "  <thead>\n",
       "    <tr style=\"text-align: right;\">\n",
       "      <th></th>\n",
       "      <th>Grupo procedimento</th>\n",
       "      <th>Valor_aprovado</th>\n",
       "    </tr>\n",
       "  </thead>\n",
       "  <tbody>\n",
       "    <tr>\n",
       "      <th>0</th>\n",
       "      <td>01 Ações de promoção e prevenção em saúde</td>\n",
       "      <td>118624</td>\n",
       "    </tr>\n",
       "    <tr>\n",
       "      <th>1</th>\n",
       "      <td>02 Procedimentos com finalidade diagnóstica</td>\n",
       "      <td>41226517,75</td>\n",
       "    </tr>\n",
       "    <tr>\n",
       "      <th>2</th>\n",
       "      <td>03 Procedimentos clínicos</td>\n",
       "      <td>102065518,07</td>\n",
       "    </tr>\n",
       "    <tr>\n",
       "      <th>3</th>\n",
       "      <td>04 Procedimentos cirúrgicos</td>\n",
       "      <td>13555047,64</td>\n",
       "    </tr>\n",
       "    <tr>\n",
       "      <th>4</th>\n",
       "      <td>05 Transplantes de orgãos, tecidos e células</td>\n",
       "      <td>8423753,86</td>\n",
       "    </tr>\n",
       "  </tbody>\n",
       "</table>\n",
       "</div>"
      ],
      "text/plain": [
       "                             Grupo procedimento Valor_aprovado\n",
       "0     01 Ações de promoção e prevenção em saúde         118624\n",
       "1   02 Procedimentos com finalidade diagnóstica    41226517,75\n",
       "2                     03 Procedimentos clínicos   102065518,07\n",
       "3                   04 Procedimentos cirúrgicos    13555047,64\n",
       "4  05 Transplantes de orgãos, tecidos e células     8423753,86"
      ]
     },
     "execution_count": 7,
     "metadata": {},
     "output_type": "execute_result"
    }
   ],
   "source": [
    "df_pa_g_proc_id = pd.read_csv(r'data\\002_TABNET\\sia_g_procedimento.csv', sep=';')\n",
    "df_pa_g_proc_id.head()"
   ]
  },
  {
   "cell_type": "code",
   "execution_count": 8,
   "metadata": {},
   "outputs": [
    {
     "data": {
      "text/html": [
       "<div>\n",
       "<style scoped>\n",
       "    .dataframe tbody tr th:only-of-type {\n",
       "        vertical-align: middle;\n",
       "    }\n",
       "\n",
       "    .dataframe tbody tr th {\n",
       "        vertical-align: top;\n",
       "    }\n",
       "\n",
       "    .dataframe thead th {\n",
       "        text-align: right;\n",
       "    }\n",
       "</style>\n",
       "<table border=\"1\" class=\"dataframe\">\n",
       "  <thead>\n",
       "    <tr style=\"text-align: right;\">\n",
       "      <th></th>\n",
       "      <th>PA_G_PROC_ID</th>\n",
       "      <th>DS_PA_G_PROC_ID</th>\n",
       "    </tr>\n",
       "  </thead>\n",
       "  <tbody>\n",
       "    <tr>\n",
       "      <th>0</th>\n",
       "      <td>1</td>\n",
       "      <td>Ações de promoção e prevenção em saúde</td>\n",
       "    </tr>\n",
       "    <tr>\n",
       "      <th>1</th>\n",
       "      <td>2</td>\n",
       "      <td>Procedimentos com finalidade diagnóstica</td>\n",
       "    </tr>\n",
       "    <tr>\n",
       "      <th>2</th>\n",
       "      <td>3</td>\n",
       "      <td>Procedimentos clínicos</td>\n",
       "    </tr>\n",
       "    <tr>\n",
       "      <th>3</th>\n",
       "      <td>4</td>\n",
       "      <td>Procedimentos cirúrgicos</td>\n",
       "    </tr>\n",
       "    <tr>\n",
       "      <th>4</th>\n",
       "      <td>5</td>\n",
       "      <td>Transplantes de orgãos, tecidos e células</td>\n",
       "    </tr>\n",
       "  </tbody>\n",
       "</table>\n",
       "</div>"
      ],
      "text/plain": [
       "   PA_G_PROC_ID                            DS_PA_G_PROC_ID\n",
       "0             1     Ações de promoção e prevenção em saúde\n",
       "1             2   Procedimentos com finalidade diagnóstica\n",
       "2             3                     Procedimentos clínicos\n",
       "3             4                   Procedimentos cirúrgicos\n",
       "4             5  Transplantes de orgãos, tecidos e células"
      ]
     },
     "execution_count": 8,
     "metadata": {},
     "output_type": "execute_result"
    }
   ],
   "source": [
    "df_pa_g_proc_id['PA_G_PROC_ID'] = df_pa_g_proc_id['Grupo procedimento'].apply(lambda x: x.split(' ', 1)[0])\n",
    "df_pa_g_proc_id['DS_PA_G_PROC_ID'] = df_pa_g_proc_id['Grupo procedimento'].apply(lambda x: x.split(' ', 1)[1])\n",
    "\n",
    "df_pa_g_proc_id['PA_G_PROC_ID'] = df_pa_g_proc_id['PA_G_PROC_ID'].astype('int64')\n",
    "df_pa_g_proc_id[['PA_G_PROC_ID', 'DS_PA_G_PROC_ID']].head()"
   ]
  },
  {
   "cell_type": "code",
   "execution_count": 9,
   "metadata": {},
   "outputs": [],
   "source": [
    "df_pa_g_proc_id[['PA_G_PROC_ID', 'DS_PA_G_PROC_ID']].to_csv(r'data\\002_TABNET\\PA_G_PROC_ID.csv', index = None, sep = ';')"
   ]
  },
  {
   "cell_type": "markdown",
   "metadata": {},
   "source": [
    "## Extrair e transformar dados descritivos de PA_SG_PROC_ID (Procedimento Subgrupo)"
   ]
  },
  {
   "cell_type": "code",
   "execution_count": 10,
   "metadata": {},
   "outputs": [
    {
     "data": {
      "text/html": [
       "<div>\n",
       "<style scoped>\n",
       "    .dataframe tbody tr th:only-of-type {\n",
       "        vertical-align: middle;\n",
       "    }\n",
       "\n",
       "    .dataframe tbody tr th {\n",
       "        vertical-align: top;\n",
       "    }\n",
       "\n",
       "    .dataframe thead th {\n",
       "        text-align: right;\n",
       "    }\n",
       "</style>\n",
       "<table border=\"1\" class=\"dataframe\">\n",
       "  <thead>\n",
       "    <tr style=\"text-align: right;\">\n",
       "      <th></th>\n",
       "      <th>Subgrupo proced.</th>\n",
       "      <th>Qtd.aprovada</th>\n",
       "    </tr>\n",
       "  </thead>\n",
       "  <tbody>\n",
       "    <tr>\n",
       "      <th>0</th>\n",
       "      <td>0101 Ações coletivas/individuais em saúde</td>\n",
       "      <td>118619</td>\n",
       "    </tr>\n",
       "    <tr>\n",
       "      <th>1</th>\n",
       "      <td>0102 Vigilância em saúde</td>\n",
       "      <td>5</td>\n",
       "    </tr>\n",
       "    <tr>\n",
       "      <th>2</th>\n",
       "      <td>0201 Coleta de material</td>\n",
       "      <td>98700</td>\n",
       "    </tr>\n",
       "    <tr>\n",
       "      <th>3</th>\n",
       "      <td>0202 Diagnóstico em laboratório clínico</td>\n",
       "      <td>3464814</td>\n",
       "    </tr>\n",
       "    <tr>\n",
       "      <th>4</th>\n",
       "      <td>0203 Diagnóstico por anatomia patológica e cit...</td>\n",
       "      <td>1383042</td>\n",
       "    </tr>\n",
       "  </tbody>\n",
       "</table>\n",
       "</div>"
      ],
      "text/plain": [
       "                                    Subgrupo proced.  Qtd.aprovada\n",
       "0          0101 Ações coletivas/individuais em saúde        118619\n",
       "1                           0102 Vigilância em saúde             5\n",
       "2                            0201 Coleta de material         98700\n",
       "3            0202 Diagnóstico em laboratório clínico       3464814\n",
       "4  0203 Diagnóstico por anatomia patológica e cit...       1383042"
      ]
     },
     "execution_count": 10,
     "metadata": {},
     "output_type": "execute_result"
    }
   ],
   "source": [
    "df_pa_sg_proc_id = pd.read_csv(r'data\\002_TABNET\\sia_sg_procedimento.csv', sep=';')\n",
    "df_pa_sg_proc_id.head()"
   ]
  },
  {
   "cell_type": "code",
   "execution_count": 11,
   "metadata": {},
   "outputs": [
    {
     "data": {
      "text/html": [
       "<div>\n",
       "<style scoped>\n",
       "    .dataframe tbody tr th:only-of-type {\n",
       "        vertical-align: middle;\n",
       "    }\n",
       "\n",
       "    .dataframe tbody tr th {\n",
       "        vertical-align: top;\n",
       "    }\n",
       "\n",
       "    .dataframe thead th {\n",
       "        text-align: right;\n",
       "    }\n",
       "</style>\n",
       "<table border=\"1\" class=\"dataframe\">\n",
       "  <thead>\n",
       "    <tr style=\"text-align: right;\">\n",
       "      <th></th>\n",
       "      <th>PA_SG_PROC_ID</th>\n",
       "      <th>DS_PA_SG_PROC_ID</th>\n",
       "    </tr>\n",
       "  </thead>\n",
       "  <tbody>\n",
       "    <tr>\n",
       "      <th>0</th>\n",
       "      <td>101</td>\n",
       "      <td>Ações coletivas/individuais em saúde</td>\n",
       "    </tr>\n",
       "    <tr>\n",
       "      <th>1</th>\n",
       "      <td>102</td>\n",
       "      <td>Vigilância em saúde</td>\n",
       "    </tr>\n",
       "    <tr>\n",
       "      <th>2</th>\n",
       "      <td>201</td>\n",
       "      <td>Coleta de material</td>\n",
       "    </tr>\n",
       "    <tr>\n",
       "      <th>3</th>\n",
       "      <td>202</td>\n",
       "      <td>Diagnóstico em laboratório clínico</td>\n",
       "    </tr>\n",
       "    <tr>\n",
       "      <th>4</th>\n",
       "      <td>203</td>\n",
       "      <td>Diagnóstico por anatomia patológica e citopato...</td>\n",
       "    </tr>\n",
       "  </tbody>\n",
       "</table>\n",
       "</div>"
      ],
      "text/plain": [
       "   PA_SG_PROC_ID                                   DS_PA_SG_PROC_ID\n",
       "0            101               Ações coletivas/individuais em saúde\n",
       "1            102                                Vigilância em saúde\n",
       "2            201                                 Coleta de material\n",
       "3            202                 Diagnóstico em laboratório clínico\n",
       "4            203  Diagnóstico por anatomia patológica e citopato..."
      ]
     },
     "execution_count": 11,
     "metadata": {},
     "output_type": "execute_result"
    }
   ],
   "source": [
    "df_pa_sg_proc_id['PA_SG_PROC_ID'] = df_pa_sg_proc_id['Subgrupo proced.'].apply(lambda x: x.split(' ', 1)[0])\n",
    "df_pa_sg_proc_id['DS_PA_SG_PROC_ID'] = df_pa_sg_proc_id['Subgrupo proced.'].apply(lambda x: x.split(' ', 1)[1])\n",
    "\n",
    "df_pa_sg_proc_id['PA_SG_PROC_ID'] = df_pa_sg_proc_id['PA_SG_PROC_ID'].astype('int64')\n",
    "df_pa_sg_proc_id[['PA_SG_PROC_ID', 'DS_PA_SG_PROC_ID']].head()"
   ]
  },
  {
   "cell_type": "code",
   "execution_count": 12,
   "metadata": {},
   "outputs": [],
   "source": [
    "df_pa_sg_proc_id[['PA_SG_PROC_ID', 'DS_PA_SG_PROC_ID']].to_csv(r'data\\002_TABNET\\PA_SG_PROC_ID.csv', index = None, sep = ';')"
   ]
  },
  {
   "cell_type": "markdown",
   "metadata": {},
   "source": [
    "## Extrair e transformar dados descritivos de PA_PROC_ID (Procedimento)"
   ]
  },
  {
   "cell_type": "code",
   "execution_count": 13,
   "metadata": {},
   "outputs": [
    {
     "data": {
      "text/html": [
       "<div>\n",
       "<style scoped>\n",
       "    .dataframe tbody tr th:only-of-type {\n",
       "        vertical-align: middle;\n",
       "    }\n",
       "\n",
       "    .dataframe tbody tr th {\n",
       "        vertical-align: top;\n",
       "    }\n",
       "\n",
       "    .dataframe thead th {\n",
       "        text-align: right;\n",
       "    }\n",
       "</style>\n",
       "<table border=\"1\" class=\"dataframe\">\n",
       "  <thead>\n",
       "    <tr style=\"text-align: right;\">\n",
       "      <th></th>\n",
       "      <th>Procedimento</th>\n",
       "      <th>Valor aprovado</th>\n",
       "    </tr>\n",
       "  </thead>\n",
       "  <tbody>\n",
       "    <tr>\n",
       "      <th>0</th>\n",
       "      <td>0101010010 ATIVIDADE EDUCATIVA / ORIENTACAO EM...</td>\n",
       "      <td>0</td>\n",
       "    </tr>\n",
       "    <tr>\n",
       "      <th>1</th>\n",
       "      <td>0101010028 ATIVIDADE EDUCATIVA / ORIENTACAO EM...</td>\n",
       "      <td>0</td>\n",
       "    </tr>\n",
       "    <tr>\n",
       "      <th>2</th>\n",
       "      <td>0101010036 PRATICA CORPORAL / ATIVIDADE FISICA...</td>\n",
       "      <td>0</td>\n",
       "    </tr>\n",
       "    <tr>\n",
       "      <th>3</th>\n",
       "      <td>0101010044 PRATICAS CORPORAIS EM MEDICINA TRAD...</td>\n",
       "      <td>0</td>\n",
       "    </tr>\n",
       "    <tr>\n",
       "      <th>4</th>\n",
       "      <td>0101010052 TERAPIA COMUNITARIA</td>\n",
       "      <td>0</td>\n",
       "    </tr>\n",
       "  </tbody>\n",
       "</table>\n",
       "</div>"
      ],
      "text/plain": [
       "                                        Procedimento  Valor aprovado\n",
       "0  0101010010 ATIVIDADE EDUCATIVA / ORIENTACAO EM...               0\n",
       "1  0101010028 ATIVIDADE EDUCATIVA / ORIENTACAO EM...               0\n",
       "2  0101010036 PRATICA CORPORAL / ATIVIDADE FISICA...               0\n",
       "3  0101010044 PRATICAS CORPORAIS EM MEDICINA TRAD...               0\n",
       "4                     0101010052 TERAPIA COMUNITARIA               0"
      ]
     },
     "execution_count": 13,
     "metadata": {},
     "output_type": "execute_result"
    }
   ],
   "source": [
    "df_pa_proc_id = pd.read_csv(r'data\\002_TABNET\\sia_procedimento.csv', sep=';')\n",
    "df_pa_proc_id.head()"
   ]
  },
  {
   "cell_type": "code",
   "execution_count": 14,
   "metadata": {},
   "outputs": [
    {
     "data": {
      "text/html": [
       "<div>\n",
       "<style scoped>\n",
       "    .dataframe tbody tr th:only-of-type {\n",
       "        vertical-align: middle;\n",
       "    }\n",
       "\n",
       "    .dataframe tbody tr th {\n",
       "        vertical-align: top;\n",
       "    }\n",
       "\n",
       "    .dataframe thead th {\n",
       "        text-align: right;\n",
       "    }\n",
       "</style>\n",
       "<table border=\"1\" class=\"dataframe\">\n",
       "  <thead>\n",
       "    <tr style=\"text-align: right;\">\n",
       "      <th></th>\n",
       "      <th>PA_PROC_ID</th>\n",
       "      <th>DS_PA_PROC_ID</th>\n",
       "    </tr>\n",
       "  </thead>\n",
       "  <tbody>\n",
       "    <tr>\n",
       "      <th>0</th>\n",
       "      <td>101010010</td>\n",
       "      <td>ATIVIDADE EDUCATIVA / ORIENTACAO EM GRUPO NA A...</td>\n",
       "    </tr>\n",
       "    <tr>\n",
       "      <th>1</th>\n",
       "      <td>101010028</td>\n",
       "      <td>ATIVIDADE EDUCATIVA / ORIENTACAO EM GRUPO NA A...</td>\n",
       "    </tr>\n",
       "    <tr>\n",
       "      <th>2</th>\n",
       "      <td>101010036</td>\n",
       "      <td>PRATICA CORPORAL / ATIVIDADE FISICA EM GRUPO</td>\n",
       "    </tr>\n",
       "    <tr>\n",
       "      <th>3</th>\n",
       "      <td>101010044</td>\n",
       "      <td>PRATICAS CORPORAIS EM MEDICINA TRADICIONAL CHI...</td>\n",
       "    </tr>\n",
       "    <tr>\n",
       "      <th>4</th>\n",
       "      <td>101010052</td>\n",
       "      <td>TERAPIA COMUNITARIA</td>\n",
       "    </tr>\n",
       "  </tbody>\n",
       "</table>\n",
       "</div>"
      ],
      "text/plain": [
       "   PA_PROC_ID                                      DS_PA_PROC_ID\n",
       "0   101010010  ATIVIDADE EDUCATIVA / ORIENTACAO EM GRUPO NA A...\n",
       "1   101010028  ATIVIDADE EDUCATIVA / ORIENTACAO EM GRUPO NA A...\n",
       "2   101010036       PRATICA CORPORAL / ATIVIDADE FISICA EM GRUPO\n",
       "3   101010044  PRATICAS CORPORAIS EM MEDICINA TRADICIONAL CHI...\n",
       "4   101010052                                TERAPIA COMUNITARIA"
      ]
     },
     "execution_count": 14,
     "metadata": {},
     "output_type": "execute_result"
    }
   ],
   "source": [
    "df_pa_proc_id['PA_PROC_ID'] = df_pa_proc_id['Procedimento'].apply(lambda x: x.split(' ', 1)[0])\n",
    "df_pa_proc_id['DS_PA_PROC_ID'] = df_pa_proc_id['Procedimento'].apply(lambda x: x.split(' ', 1)[1])\n",
    "\n",
    "df_pa_proc_id['PA_PROC_ID'] = df_pa_proc_id['PA_PROC_ID'].astype('int64')\n",
    "df_pa_proc_id[['PA_PROC_ID', 'DS_PA_PROC_ID']].head()"
   ]
  },
  {
   "cell_type": "code",
   "execution_count": 15,
   "metadata": {},
   "outputs": [],
   "source": [
    "df_pa_proc_id[['PA_PROC_ID', 'DS_PA_PROC_ID']].to_csv(r'data\\002_TABNET\\PA_PROC_ID.csv', index = None, sep = ';')"
   ]
  },
  {
   "cell_type": "markdown",
   "metadata": {},
   "source": [
    "## Extrair e transformar dados descritivos de PA_CBOCOD (Profissional - CBO)"
   ]
  },
  {
   "cell_type": "code",
   "execution_count": 16,
   "metadata": {},
   "outputs": [
    {
     "data": {
      "text/html": [
       "<div>\n",
       "<style scoped>\n",
       "    .dataframe tbody tr th:only-of-type {\n",
       "        vertical-align: middle;\n",
       "    }\n",
       "\n",
       "    .dataframe tbody tr th {\n",
       "        vertical-align: top;\n",
       "    }\n",
       "\n",
       "    .dataframe thead th {\n",
       "        text-align: right;\n",
       "    }\n",
       "</style>\n",
       "<table border=\"1\" class=\"dataframe\">\n",
       "  <thead>\n",
       "    <tr style=\"text-align: right;\">\n",
       "      <th></th>\n",
       "      <th>Profissional - CBO</th>\n",
       "      <th>Valor aprovado</th>\n",
       "    </tr>\n",
       "  </thead>\n",
       "  <tbody>\n",
       "    <tr>\n",
       "      <th>0</th>\n",
       "      <td>010105 Oficial General da Aeronautica</td>\n",
       "      <td>0</td>\n",
       "    </tr>\n",
       "    <tr>\n",
       "      <th>1</th>\n",
       "      <td>010110 Oficial General do Exercito</td>\n",
       "      <td>0</td>\n",
       "    </tr>\n",
       "    <tr>\n",
       "      <th>2</th>\n",
       "      <td>010115 Oficial General da Marinha</td>\n",
       "      <td>0</td>\n",
       "    </tr>\n",
       "    <tr>\n",
       "      <th>3</th>\n",
       "      <td>010205 Oficial da Aeronautica</td>\n",
       "      <td>0</td>\n",
       "    </tr>\n",
       "    <tr>\n",
       "      <th>4</th>\n",
       "      <td>010210 Oficial do Exercito</td>\n",
       "      <td>0</td>\n",
       "    </tr>\n",
       "  </tbody>\n",
       "</table>\n",
       "</div>"
      ],
      "text/plain": [
       "                      Profissional - CBO  Valor aprovado\n",
       "0  010105 Oficial General da Aeronautica               0\n",
       "1     010110 Oficial General do Exercito               0\n",
       "2      010115 Oficial General da Marinha               0\n",
       "3          010205 Oficial da Aeronautica               0\n",
       "4             010210 Oficial do Exercito               0"
      ]
     },
     "execution_count": 16,
     "metadata": {},
     "output_type": "execute_result"
    }
   ],
   "source": [
    "df_pa_cbocod = pd.read_csv(r'data\\002_TABNET\\sia_profissional.csv', sep=';')\n",
    "df_pa_cbocod.head()"
   ]
  },
  {
   "cell_type": "code",
   "execution_count": 17,
   "metadata": {},
   "outputs": [
    {
     "data": {
      "text/html": [
       "<div>\n",
       "<style scoped>\n",
       "    .dataframe tbody tr th:only-of-type {\n",
       "        vertical-align: middle;\n",
       "    }\n",
       "\n",
       "    .dataframe tbody tr th {\n",
       "        vertical-align: top;\n",
       "    }\n",
       "\n",
       "    .dataframe thead th {\n",
       "        text-align: right;\n",
       "    }\n",
       "</style>\n",
       "<table border=\"1\" class=\"dataframe\">\n",
       "  <thead>\n",
       "    <tr style=\"text-align: right;\">\n",
       "      <th></th>\n",
       "      <th>PA_CBOCOD</th>\n",
       "      <th>DS_PA_CBOCOD</th>\n",
       "    </tr>\n",
       "  </thead>\n",
       "  <tbody>\n",
       "    <tr>\n",
       "      <th>0</th>\n",
       "      <td>010105</td>\n",
       "      <td>Oficial General da Aeronautica</td>\n",
       "    </tr>\n",
       "    <tr>\n",
       "      <th>1</th>\n",
       "      <td>010110</td>\n",
       "      <td>Oficial General do Exercito</td>\n",
       "    </tr>\n",
       "    <tr>\n",
       "      <th>2</th>\n",
       "      <td>010115</td>\n",
       "      <td>Oficial General da Marinha</td>\n",
       "    </tr>\n",
       "    <tr>\n",
       "      <th>3</th>\n",
       "      <td>010205</td>\n",
       "      <td>Oficial da Aeronautica</td>\n",
       "    </tr>\n",
       "    <tr>\n",
       "      <th>4</th>\n",
       "      <td>010210</td>\n",
       "      <td>Oficial do Exercito</td>\n",
       "    </tr>\n",
       "  </tbody>\n",
       "</table>\n",
       "</div>"
      ],
      "text/plain": [
       "  PA_CBOCOD                    DS_PA_CBOCOD\n",
       "0    010105  Oficial General da Aeronautica\n",
       "1    010110     Oficial General do Exercito\n",
       "2    010115      Oficial General da Marinha\n",
       "3    010205          Oficial da Aeronautica\n",
       "4    010210             Oficial do Exercito"
      ]
     },
     "execution_count": 17,
     "metadata": {},
     "output_type": "execute_result"
    }
   ],
   "source": [
    "df_pa_cbocod['PA_CBOCOD'] = df_pa_cbocod['Profissional - CBO'].apply(lambda x: x.split(' ', 1)[0])\n",
    "df_pa_cbocod['DS_PA_CBOCOD'] = df_pa_cbocod['Profissional - CBO'].apply(lambda x: x.split(' ', 1)[1])\n",
    "\n",
    "df_pa_cbocod[['PA_CBOCOD', 'DS_PA_CBOCOD']].head()"
   ]
  },
  {
   "cell_type": "code",
   "execution_count": 18,
   "metadata": {},
   "outputs": [],
   "source": [
    "df_pa_cbocod[['PA_CBOCOD', 'DS_PA_CBOCOD']].to_csv(r'data\\002_TABNET\\PA_CBOCOD.csv', index = None, sep = ';')"
   ]
  },
  {
   "cell_type": "markdown",
   "metadata": {},
   "source": [
    "## Extrair e transformar dados descritivos de PA_NIVCPL (Complexidade)\n",
    "Não há um código informado no TabNet para a variável de **Complexidade**. Dessa forma, o código será obtido através de inferência"
   ]
  },
  {
   "cell_type": "code",
   "execution_count": 19,
   "metadata": {},
   "outputs": [
    {
     "data": {
      "text/html": [
       "<div>\n",
       "<style scoped>\n",
       "    .dataframe tbody tr th:only-of-type {\n",
       "        vertical-align: middle;\n",
       "    }\n",
       "\n",
       "    .dataframe tbody tr th {\n",
       "        vertical-align: top;\n",
       "    }\n",
       "\n",
       "    .dataframe thead th {\n",
       "        text-align: right;\n",
       "    }\n",
       "</style>\n",
       "<table border=\"1\" class=\"dataframe\">\n",
       "  <thead>\n",
       "    <tr style=\"text-align: right;\">\n",
       "      <th></th>\n",
       "      <th>Complexidade</th>\n",
       "      <th>Valor aprovado</th>\n",
       "    </tr>\n",
       "  </thead>\n",
       "  <tbody>\n",
       "    <tr>\n",
       "      <th>0</th>\n",
       "      <td>Atenção Básica</td>\n",
       "      <td>118,00</td>\n",
       "    </tr>\n",
       "    <tr>\n",
       "      <th>1</th>\n",
       "      <td>Média complexidade</td>\n",
       "      <td>16312502,70</td>\n",
       "    </tr>\n",
       "    <tr>\n",
       "      <th>2</th>\n",
       "      <td>Alta complexidade</td>\n",
       "      <td>46592212,90</td>\n",
       "    </tr>\n",
       "    <tr>\n",
       "      <th>3</th>\n",
       "      <td>Não se aplica</td>\n",
       "      <td>3643105,82</td>\n",
       "    </tr>\n",
       "  </tbody>\n",
       "</table>\n",
       "</div>"
      ],
      "text/plain": [
       "         Complexidade Valor aprovado\n",
       "0      Atenção Básica         118,00\n",
       "1  Média complexidade    16312502,70\n",
       "2   Alta complexidade    46592212,90\n",
       "3       Não se aplica     3643105,82"
      ]
     },
     "execution_count": 19,
     "metadata": {},
     "output_type": "execute_result"
    }
   ],
   "source": [
    "df_pa_nivcpl = pd.read_csv(r'data\\002_TABNET\\sia_complexidade.csv', sep=';')\n",
    "df_pa_nivcpl"
   ]
  },
  {
   "cell_type": "code",
   "execution_count": 20,
   "metadata": {},
   "outputs": [
    {
     "name": "stderr",
     "output_type": "stream",
     "text": [
      "C:\\Users\\Vinicius Luiz\\AppData\\Local\\Temp\\ipykernel_4748\\347442365.py:1: FutureWarning: The default value of numeric_only in DataFrameGroupBy.sum is deprecated. In a future version, numeric_only will default to False. Either specify numeric_only or select only columns which should be valid for the function.\n",
      "  df.groupby('PA_NIVCPL').sum()['PA_VALAPR']\n"
     ]
    },
    {
     "data": {
      "text/plain": [
       "PA_NIVCPL\n",
       "0     3626534.13\n",
       "1         119.00\n",
       "2    53100577.10\n",
       "3    46856945.50\n",
       "Name: PA_VALAPR, dtype: float64"
      ]
     },
     "execution_count": 20,
     "metadata": {},
     "output_type": "execute_result"
    }
   ],
   "source": [
    "df.groupby('PA_NIVCPL').sum()['PA_VALAPR']"
   ]
  },
  {
   "cell_type": "code",
   "execution_count": 21,
   "metadata": {},
   "outputs": [
    {
     "data": {
      "text/html": [
       "<div>\n",
       "<style scoped>\n",
       "    .dataframe tbody tr th:only-of-type {\n",
       "        vertical-align: middle;\n",
       "    }\n",
       "\n",
       "    .dataframe tbody tr th {\n",
       "        vertical-align: top;\n",
       "    }\n",
       "\n",
       "    .dataframe thead th {\n",
       "        text-align: right;\n",
       "    }\n",
       "</style>\n",
       "<table border=\"1\" class=\"dataframe\">\n",
       "  <thead>\n",
       "    <tr style=\"text-align: right;\">\n",
       "      <th></th>\n",
       "      <th>PA_NIVCPL</th>\n",
       "      <th>DS_PA_NIVCPL</th>\n",
       "    </tr>\n",
       "  </thead>\n",
       "  <tbody>\n",
       "    <tr>\n",
       "      <th>0</th>\n",
       "      <td>0</td>\n",
       "      <td>Não se aplica</td>\n",
       "    </tr>\n",
       "    <tr>\n",
       "      <th>1</th>\n",
       "      <td>1</td>\n",
       "      <td>Atenção Básica</td>\n",
       "    </tr>\n",
       "    <tr>\n",
       "      <th>2</th>\n",
       "      <td>2</td>\n",
       "      <td>Média Complexidade</td>\n",
       "    </tr>\n",
       "    <tr>\n",
       "      <th>3</th>\n",
       "      <td>3</td>\n",
       "      <td>Alta Complexidade</td>\n",
       "    </tr>\n",
       "  </tbody>\n",
       "</table>\n",
       "</div>"
      ],
      "text/plain": [
       "   PA_NIVCPL        DS_PA_NIVCPL\n",
       "0          0       Não se aplica\n",
       "1          1      Atenção Básica\n",
       "2          2  Média Complexidade\n",
       "3          3   Alta Complexidade"
      ]
     },
     "execution_count": 21,
     "metadata": {},
     "output_type": "execute_result"
    }
   ],
   "source": [
    "dict_pa_cnivcpl = {\n",
    "      'PA_NIVCPL': (0, 1, 2, 3)\n",
    "    , 'DS_PA_NIVCPL': ('Não se aplica', 'Atenção Básica', 'Média Complexidade', 'Alta Complexidade')\n",
    "}\n",
    "\n",
    "df_pa_nivcpl = pd.DataFrame(dict_pa_cnivcpl)\n",
    "df_pa_nivcpl"
   ]
  },
  {
   "cell_type": "code",
   "execution_count": 22,
   "metadata": {},
   "outputs": [],
   "source": [
    "df_pa_nivcpl[['PA_NIVCPL', 'DS_PA_NIVCPL']].to_csv(r'data\\002_TABNET\\PA_NIVCPL.csv', index = None, sep = ';')"
   ]
  }
 ],
 "metadata": {
  "kernelspec": {
   "display_name": "Python 3",
   "language": "python",
   "name": "python3"
  },
  "language_info": {
   "codemirror_mode": {
    "name": "ipython",
    "version": 3
   },
   "file_extension": ".py",
   "mimetype": "text/x-python",
   "name": "python",
   "nbconvert_exporter": "python",
   "pygments_lexer": "ipython3",
   "version": "3.9.12"
  }
 },
 "nbformat": 4,
 "nbformat_minor": 2
}
